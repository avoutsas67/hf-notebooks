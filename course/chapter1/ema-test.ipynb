{
 "cells": [
  {
   "cell_type": "code",
   "execution_count": 1,
   "metadata": {},
   "outputs": [
    {
     "name": "stdout",
     "output_type": "stream",
     "text": [
      "Requirement already satisfied: datasets in /Users/achilleas.voutsas/Development/tutorials/huggingface-transformers-tutorial/hf-notebooks/.venv/lib/python3.9/site-packages (2.7.1)\n",
      "Requirement already satisfied: transformers[sentencepiece] in /Users/achilleas.voutsas/Development/tutorials/huggingface-transformers-tutorial/hf-notebooks/.venv/lib/python3.9/site-packages (4.24.0)\n",
      "Requirement already satisfied: multiprocess in /Users/achilleas.voutsas/Development/tutorials/huggingface-transformers-tutorial/hf-notebooks/.venv/lib/python3.9/site-packages (from datasets) (0.70.14)\n",
      "Requirement already satisfied: packaging in /Users/achilleas.voutsas/Development/tutorials/huggingface-transformers-tutorial/hf-notebooks/.venv/lib/python3.9/site-packages (from datasets) (21.3)\n",
      "Requirement already satisfied: dill<0.3.7 in /Users/achilleas.voutsas/Development/tutorials/huggingface-transformers-tutorial/hf-notebooks/.venv/lib/python3.9/site-packages (from datasets) (0.3.6)\n",
      "Requirement already satisfied: responses<0.19 in /Users/achilleas.voutsas/Development/tutorials/huggingface-transformers-tutorial/hf-notebooks/.venv/lib/python3.9/site-packages (from datasets) (0.18.0)\n",
      "Requirement already satisfied: pyarrow>=6.0.0 in /Users/achilleas.voutsas/Development/tutorials/huggingface-transformers-tutorial/hf-notebooks/.venv/lib/python3.9/site-packages (from datasets) (10.0.1)\n",
      "Requirement already satisfied: xxhash in /Users/achilleas.voutsas/Development/tutorials/huggingface-transformers-tutorial/hf-notebooks/.venv/lib/python3.9/site-packages (from datasets) (3.1.0)\n",
      "Requirement already satisfied: aiohttp in /Users/achilleas.voutsas/Development/tutorials/huggingface-transformers-tutorial/hf-notebooks/.venv/lib/python3.9/site-packages (from datasets) (3.8.3)\n",
      "Requirement already satisfied: pyyaml>=5.1 in /Users/achilleas.voutsas/Development/tutorials/huggingface-transformers-tutorial/hf-notebooks/.venv/lib/python3.9/site-packages (from datasets) (6.0)\n",
      "Requirement already satisfied: requests>=2.19.0 in /Users/achilleas.voutsas/Development/tutorials/huggingface-transformers-tutorial/hf-notebooks/.venv/lib/python3.9/site-packages (from datasets) (2.28.1)\n",
      "Requirement already satisfied: fsspec[http]>=2021.11.1 in /Users/achilleas.voutsas/Development/tutorials/huggingface-transformers-tutorial/hf-notebooks/.venv/lib/python3.9/site-packages (from datasets) (2022.11.0)\n",
      "Requirement already satisfied: numpy>=1.17 in /Users/achilleas.voutsas/Development/tutorials/huggingface-transformers-tutorial/hf-notebooks/.venv/lib/python3.9/site-packages (from datasets) (1.23.5)\n",
      "Requirement already satisfied: huggingface-hub<1.0.0,>=0.2.0 in /Users/achilleas.voutsas/Development/tutorials/huggingface-transformers-tutorial/hf-notebooks/.venv/lib/python3.9/site-packages (from datasets) (0.11.0)\n",
      "Requirement already satisfied: tqdm>=4.62.1 in /Users/achilleas.voutsas/Development/tutorials/huggingface-transformers-tutorial/hf-notebooks/.venv/lib/python3.9/site-packages (from datasets) (4.64.1)\n",
      "Requirement already satisfied: pandas in /Users/achilleas.voutsas/Development/tutorials/huggingface-transformers-tutorial/hf-notebooks/.venv/lib/python3.9/site-packages (from datasets) (1.5.2)\n",
      "Requirement already satisfied: regex!=2019.12.17 in /Users/achilleas.voutsas/Development/tutorials/huggingface-transformers-tutorial/hf-notebooks/.venv/lib/python3.9/site-packages (from transformers[sentencepiece]) (2022.10.31)\n",
      "Requirement already satisfied: filelock in /Users/achilleas.voutsas/Development/tutorials/huggingface-transformers-tutorial/hf-notebooks/.venv/lib/python3.9/site-packages (from transformers[sentencepiece]) (3.8.0)\n",
      "Requirement already satisfied: tokenizers!=0.11.3,<0.14,>=0.11.1 in /Users/achilleas.voutsas/Development/tutorials/huggingface-transformers-tutorial/hf-notebooks/.venv/lib/python3.9/site-packages (from transformers[sentencepiece]) (0.13.2)\n",
      "Requirement already satisfied: sentencepiece!=0.1.92,>=0.1.91 in /Users/achilleas.voutsas/Development/tutorials/huggingface-transformers-tutorial/hf-notebooks/.venv/lib/python3.9/site-packages (from transformers[sentencepiece]) (0.1.97)\n",
      "Collecting protobuf<=3.20.2\n",
      "  Downloading protobuf-3.20.2-cp39-cp39-macosx_10_9_x86_64.whl (982 kB)\n",
      "\u001b[2K     \u001b[90m━━━━━━━━━━━━━━━━━━━━━━━━━━━━━━━━━━━━━━━\u001b[0m \u001b[32m982.8/982.8 kB\u001b[0m \u001b[31m8.6 MB/s\u001b[0m eta \u001b[36m0:00:00\u001b[0m00:01\u001b[0m00:01\u001b[0m\n",
      "\u001b[?25hRequirement already satisfied: multidict<7.0,>=4.5 in /Users/achilleas.voutsas/Development/tutorials/huggingface-transformers-tutorial/hf-notebooks/.venv/lib/python3.9/site-packages (from aiohttp->datasets) (6.0.2)\n",
      "Requirement already satisfied: aiosignal>=1.1.2 in /Users/achilleas.voutsas/Development/tutorials/huggingface-transformers-tutorial/hf-notebooks/.venv/lib/python3.9/site-packages (from aiohttp->datasets) (1.3.1)\n",
      "Requirement already satisfied: attrs>=17.3.0 in /Users/achilleas.voutsas/Development/tutorials/huggingface-transformers-tutorial/hf-notebooks/.venv/lib/python3.9/site-packages (from aiohttp->datasets) (22.1.0)\n",
      "Requirement already satisfied: async-timeout<5.0,>=4.0.0a3 in /Users/achilleas.voutsas/Development/tutorials/huggingface-transformers-tutorial/hf-notebooks/.venv/lib/python3.9/site-packages (from aiohttp->datasets) (4.0.2)\n",
      "Requirement already satisfied: charset-normalizer<3.0,>=2.0 in /Users/achilleas.voutsas/Development/tutorials/huggingface-transformers-tutorial/hf-notebooks/.venv/lib/python3.9/site-packages (from aiohttp->datasets) (2.1.1)\n",
      "Requirement already satisfied: frozenlist>=1.1.1 in /Users/achilleas.voutsas/Development/tutorials/huggingface-transformers-tutorial/hf-notebooks/.venv/lib/python3.9/site-packages (from aiohttp->datasets) (1.3.3)\n",
      "Requirement already satisfied: yarl<2.0,>=1.0 in /Users/achilleas.voutsas/Development/tutorials/huggingface-transformers-tutorial/hf-notebooks/.venv/lib/python3.9/site-packages (from aiohttp->datasets) (1.8.1)\n",
      "Requirement already satisfied: typing-extensions>=3.7.4.3 in /Users/achilleas.voutsas/Development/tutorials/huggingface-transformers-tutorial/hf-notebooks/.venv/lib/python3.9/site-packages (from huggingface-hub<1.0.0,>=0.2.0->datasets) (4.4.0)\n",
      "Requirement already satisfied: pyparsing!=3.0.5,>=2.0.2 in /Users/achilleas.voutsas/Development/tutorials/huggingface-transformers-tutorial/hf-notebooks/.venv/lib/python3.9/site-packages (from packaging->datasets) (3.0.9)\n",
      "Requirement already satisfied: urllib3<1.27,>=1.21.1 in /Users/achilleas.voutsas/Development/tutorials/huggingface-transformers-tutorial/hf-notebooks/.venv/lib/python3.9/site-packages (from requests>=2.19.0->datasets) (1.26.13)\n",
      "Requirement already satisfied: certifi>=2017.4.17 in /Users/achilleas.voutsas/Development/tutorials/huggingface-transformers-tutorial/hf-notebooks/.venv/lib/python3.9/site-packages (from requests>=2.19.0->datasets) (2022.9.24)\n",
      "Requirement already satisfied: idna<4,>=2.5 in /Users/achilleas.voutsas/Development/tutorials/huggingface-transformers-tutorial/hf-notebooks/.venv/lib/python3.9/site-packages (from requests>=2.19.0->datasets) (3.4)\n",
      "Requirement already satisfied: pytz>=2020.1 in /Users/achilleas.voutsas/Development/tutorials/huggingface-transformers-tutorial/hf-notebooks/.venv/lib/python3.9/site-packages (from pandas->datasets) (2022.6)\n",
      "Requirement already satisfied: python-dateutil>=2.8.1 in /Users/achilleas.voutsas/Development/tutorials/huggingface-transformers-tutorial/hf-notebooks/.venv/lib/python3.9/site-packages (from pandas->datasets) (2.8.2)\n",
      "Requirement already satisfied: six>=1.5 in /Users/achilleas.voutsas/Development/tutorials/huggingface-transformers-tutorial/hf-notebooks/.venv/lib/python3.9/site-packages (from python-dateutil>=2.8.1->pandas->datasets) (1.16.0)\n",
      "Installing collected packages: protobuf\n",
      "Successfully installed protobuf-3.20.2\n",
      "Requirement already satisfied: torch in /Users/achilleas.voutsas/Development/tutorials/huggingface-transformers-tutorial/hf-notebooks/.venv/lib/python3.9/site-packages (1.13.0)\n",
      "Requirement already satisfied: typing-extensions in /Users/achilleas.voutsas/Development/tutorials/huggingface-transformers-tutorial/hf-notebooks/.venv/lib/python3.9/site-packages (from torch) (4.4.0)\n"
     ]
    }
   ],
   "source": [
    "!pip install datasets 'transformers[sentencepiece]'\n",
    "!pip install torch"
   ]
  },
  {
   "cell_type": "code",
   "execution_count": 2,
   "metadata": {},
   "outputs": [
    {
     "ename": "ModuleNotFoundError",
     "evalue": "No module named 'transformers'",
     "output_type": "error",
     "traceback": [
      "\u001b[0;31m---------------------------------------------------------------------------\u001b[0m",
      "\u001b[0;31mModuleNotFoundError\u001b[0m                       Traceback (most recent call last)",
      "Cell \u001b[0;32mIn [2], line 1\u001b[0m\n\u001b[0;32m----> 1\u001b[0m \u001b[38;5;28;01mfrom\u001b[39;00m \u001b[38;5;21;01mtransformers\u001b[39;00m \u001b[38;5;28;01mimport\u001b[39;00m pipeline\n\u001b[1;32m      3\u001b[0m PRETRAINED \u001b[38;5;241m=\u001b[39m \u001b[38;5;124m\"\u001b[39m\u001b[38;5;124mraynardj/ner-disease-ncbi-bionlp-bc5cdr-pubmed\u001b[39m\u001b[38;5;124m\"\u001b[39m\n\u001b[1;32m      4\u001b[0m MSFT_PUBMED_BIOBERT_ABSTR \u001b[38;5;241m=\u001b[39m \u001b[38;5;124m\"\u001b[39m\u001b[38;5;124mmicrosoft/BiomedNLP-PubMedBERT-base-uncased-abstract\u001b[39m\u001b[38;5;124m\"\u001b[39m\n",
      "\u001b[0;31mModuleNotFoundError\u001b[0m: No module named 'transformers'"
     ]
    }
   ],
   "source": [
    "from transformers import pipeline\n",
    "\n",
    "PRETRAINED = \"raynardj/ner-disease-ncbi-bionlp-bc5cdr-pubmed\"\n",
    "MSFT_PUBMED_BIOBERT_ABSTR = \"microsoft/BiomedNLP-PubMedBERT-base-uncased-abstract\"\n",
    "MSFT_PUBMED_BIOBERT_FULLCASE = \"microsoft/BiomedNLP-PubMedBERT-base-uncased-abstract-fulltext\"\n",
    "BIONLP = \"bionlp/bluebert_pubmed_mimic_uncased_L-12_H-768_A-12\"\n",
    "EMA_TEXT = \"Pioglitazone is also indicated for combination with insulin in type 2 diabetes mellitus adult patients with insufficient glycaemic control on insulin for whom metformin is inappropriate because of contraindications or intolerance (see section 4.4). After initiation of therapy with pioglitazone, patients should be reviewed after 3 to 6 months to assess adequacy of response to treatment (e.g. reduction in HbA1c). In patients who fail to show an adequate response, pioglitazone should be discontinued. In light of potential risks with prolonged therapy, prescribers should confirm at subsequent routine reviews that the benefit of pioglitazone is maintained\"\n",
    "\n",
    "ner = pipeline(task=\"ner\",model=PRETRAINED, tokenizer=PRETRAINED)\n",
    "ner(EMA_TEXT, aggregation_strategy=\"first\")"
   ]
  },
  {
   "cell_type": "code",
   "execution_count": null,
   "metadata": {},
   "outputs": [],
   "source": []
  }
 ],
 "metadata": {
  "kernelspec": {
   "display_name": "hf notebooks Py3.9",
   "language": "python",
   "name": "hf-notebooks-3.9"
  },
  "language_info": {
   "codemirror_mode": {
    "name": "ipython",
    "version": 3
   },
   "file_extension": ".py",
   "mimetype": "text/x-python",
   "name": "python",
   "nbconvert_exporter": "python",
   "pygments_lexer": "ipython3",
   "version": "3.10.8"
  },
  "latex_envs": {
   "LaTeX_envs_menu_present": true,
   "autoclose": false,
   "autocomplete": true,
   "bibliofile": "biblio.bib",
   "cite_by": "apalike",
   "current_citInitial": 1,
   "eqLabelWithNumbers": true,
   "eqNumInitial": 1,
   "hotkeys": {
    "equation": "Ctrl-E",
    "itemize": "Ctrl-I"
   },
   "labels_anchors": false,
   "latex_user_defs": false,
   "report_style_numbering": false,
   "user_envs_cfg": false
  },
  "toc": {
   "base_numbering": 1,
   "nav_menu": {},
   "number_sections": true,
   "sideBar": true,
   "skip_h1_title": false,
   "title_cell": "Table of Contents",
   "title_sidebar": "Contents",
   "toc_cell": false,
   "toc_position": {},
   "toc_section_display": true,
   "toc_window_display": false
  },
  "vscode": {
   "interpreter": {
    "hash": "4002c6016b51045baa9e8326ca8bccd2da7d7310af864371a45a6505f277f475"
   }
  }
 },
 "nbformat": 4,
 "nbformat_minor": 2
}
