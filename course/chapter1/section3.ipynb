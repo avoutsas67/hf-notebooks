{
 "cells": [
  {
   "cell_type": "markdown",
   "metadata": {},
   "source": [
    "# Transformers, what can they do?"
   ]
  },
  {
   "cell_type": "markdown",
   "metadata": {},
   "source": [
    "Install the Transformers and Datasets libraries to run this notebook."
   ]
  },
  {
   "cell_type": "code",
   "execution_count": 4,
   "metadata": {},
   "outputs": [
    {
     "name": "stdout",
     "output_type": "stream",
     "text": [
      "Collecting datasets\n",
      "  Using cached datasets-2.3.2-py3-none-any.whl (362 kB)\n",
      "Requirement already satisfied: transformers[sentencepiece] in /Users/achilleas.voutsas/Development/courses/huggingface-transformers-tutorial/hf-notebooks/.venv-hf-notebooks/lib/python3.9/site-packages (4.20.1)\n",
      "Requirement already satisfied: numpy>=1.17 in /Users/achilleas.voutsas/Development/courses/huggingface-transformers-tutorial/hf-notebooks/.venv-hf-notebooks/lib/python3.9/site-packages (from datasets) (1.23.1)\n",
      "Requirement already satisfied: tqdm>=4.62.1 in /Users/achilleas.voutsas/Development/courses/huggingface-transformers-tutorial/hf-notebooks/.venv-hf-notebooks/lib/python3.9/site-packages (from datasets) (4.64.0)\n",
      "Requirement already satisfied: requests>=2.19.0 in /Users/achilleas.voutsas/Development/courses/huggingface-transformers-tutorial/hf-notebooks/.venv-hf-notebooks/lib/python3.9/site-packages (from datasets) (2.28.1)\n",
      "Requirement already satisfied: pyarrow>=6.0.0 in /Users/achilleas.voutsas/Development/courses/huggingface-transformers-tutorial/hf-notebooks/.venv-hf-notebooks/lib/python3.9/site-packages (from datasets) (8.0.0)\n",
      "Requirement already satisfied: xxhash in /Users/achilleas.voutsas/Development/courses/huggingface-transformers-tutorial/hf-notebooks/.venv-hf-notebooks/lib/python3.9/site-packages (from datasets) (3.0.0)\n",
      "Collecting multiprocess\n",
      "  Using cached multiprocess-0.70.13-py39-none-any.whl (132 kB)\n",
      "Collecting aiohttp\n",
      "  Using cached aiohttp-3.8.1-cp39-cp39-macosx_10_9_x86_64.whl (574 kB)\n",
      "Requirement already satisfied: packaging in /Users/achilleas.voutsas/Development/courses/huggingface-transformers-tutorial/hf-notebooks/.venv-hf-notebooks/lib/python3.9/site-packages (from datasets) (21.3)\n",
      "Requirement already satisfied: dill<0.3.6 in /Users/achilleas.voutsas/Development/courses/huggingface-transformers-tutorial/hf-notebooks/.venv-hf-notebooks/lib/python3.9/site-packages (from datasets) (0.3.5.1)\n",
      "Requirement already satisfied: fsspec[http]>=2021.05.0 in /Users/achilleas.voutsas/Development/courses/huggingface-transformers-tutorial/hf-notebooks/.venv-hf-notebooks/lib/python3.9/site-packages (from datasets) (2022.5.0)\n",
      "Requirement already satisfied: responses<0.19 in /Users/achilleas.voutsas/Development/courses/huggingface-transformers-tutorial/hf-notebooks/.venv-hf-notebooks/lib/python3.9/site-packages (from datasets) (0.18.0)\n",
      "Requirement already satisfied: huggingface-hub<1.0.0,>=0.1.0 in /Users/achilleas.voutsas/Development/courses/huggingface-transformers-tutorial/hf-notebooks/.venv-hf-notebooks/lib/python3.9/site-packages (from datasets) (0.8.1)\n",
      "Requirement already satisfied: pandas in /Users/achilleas.voutsas/Development/courses/huggingface-transformers-tutorial/hf-notebooks/.venv-hf-notebooks/lib/python3.9/site-packages (from datasets) (1.4.3)\n",
      "Requirement already satisfied: filelock in /Users/achilleas.voutsas/Development/courses/huggingface-transformers-tutorial/hf-notebooks/.venv-hf-notebooks/lib/python3.9/site-packages (from transformers[sentencepiece]) (3.7.1)\n",
      "Requirement already satisfied: tokenizers!=0.11.3,<0.13,>=0.11.1 in /Users/achilleas.voutsas/Development/courses/huggingface-transformers-tutorial/hf-notebooks/.venv-hf-notebooks/lib/python3.9/site-packages (from transformers[sentencepiece]) (0.12.1)\n",
      "Requirement already satisfied: regex!=2019.12.17 in /Users/achilleas.voutsas/Development/courses/huggingface-transformers-tutorial/hf-notebooks/.venv-hf-notebooks/lib/python3.9/site-packages (from transformers[sentencepiece]) (2022.7.9)\n",
      "Requirement already satisfied: pyyaml>=5.1 in /Users/achilleas.voutsas/Development/courses/huggingface-transformers-tutorial/hf-notebooks/.venv-hf-notebooks/lib/python3.9/site-packages (from transformers[sentencepiece]) (6.0)\n",
      "Requirement already satisfied: sentencepiece!=0.1.92,>=0.1.91 in /Users/achilleas.voutsas/Development/courses/huggingface-transformers-tutorial/hf-notebooks/.venv-hf-notebooks/lib/python3.9/site-packages (from transformers[sentencepiece]) (0.1.96)\n",
      "Requirement already satisfied: protobuf<=3.20.1 in /Users/achilleas.voutsas/Development/courses/huggingface-transformers-tutorial/hf-notebooks/.venv-hf-notebooks/lib/python3.9/site-packages (from transformers[sentencepiece]) (3.20.1)\n",
      "Requirement already satisfied: typing-extensions>=3.7.4.3 in /Users/achilleas.voutsas/Development/courses/huggingface-transformers-tutorial/hf-notebooks/.venv-hf-notebooks/lib/python3.9/site-packages (from huggingface-hub<1.0.0,>=0.1.0->datasets) (4.3.0)\n",
      "Requirement already satisfied: pyparsing!=3.0.5,>=2.0.2 in /Users/achilleas.voutsas/Development/courses/huggingface-transformers-tutorial/hf-notebooks/.venv-hf-notebooks/lib/python3.9/site-packages (from packaging->datasets) (3.0.9)\n",
      "Requirement already satisfied: urllib3<1.27,>=1.21.1 in /Users/achilleas.voutsas/Development/courses/huggingface-transformers-tutorial/hf-notebooks/.venv-hf-notebooks/lib/python3.9/site-packages (from requests>=2.19.0->datasets) (1.26.10)\n",
      "Requirement already satisfied: idna<4,>=2.5 in /Users/achilleas.voutsas/Development/courses/huggingface-transformers-tutorial/hf-notebooks/.venv-hf-notebooks/lib/python3.9/site-packages (from requests>=2.19.0->datasets) (3.3)\n",
      "Requirement already satisfied: certifi>=2017.4.17 in /Users/achilleas.voutsas/Development/courses/huggingface-transformers-tutorial/hf-notebooks/.venv-hf-notebooks/lib/python3.9/site-packages (from requests>=2.19.0->datasets) (2022.6.15)\n",
      "Requirement already satisfied: charset-normalizer<3,>=2 in /Users/achilleas.voutsas/Development/courses/huggingface-transformers-tutorial/hf-notebooks/.venv-hf-notebooks/lib/python3.9/site-packages (from requests>=2.19.0->datasets) (2.1.0)\n",
      "Requirement already satisfied: frozenlist>=1.1.1 in /Users/achilleas.voutsas/Development/courses/huggingface-transformers-tutorial/hf-notebooks/.venv-hf-notebooks/lib/python3.9/site-packages (from aiohttp->datasets) (1.3.0)\n",
      "Requirement already satisfied: multidict<7.0,>=4.5 in /Users/achilleas.voutsas/Development/courses/huggingface-transformers-tutorial/hf-notebooks/.venv-hf-notebooks/lib/python3.9/site-packages (from aiohttp->datasets) (6.0.2)\n",
      "Collecting aiosignal>=1.1.2\n",
      "  Using cached aiosignal-1.2.0-py3-none-any.whl (8.2 kB)\n",
      "Requirement already satisfied: attrs>=17.3.0 in /Users/achilleas.voutsas/Development/courses/huggingface-transformers-tutorial/hf-notebooks/.venv-hf-notebooks/lib/python3.9/site-packages (from aiohttp->datasets) (21.4.0)\n",
      "Requirement already satisfied: yarl<2.0,>=1.0 in /Users/achilleas.voutsas/Development/courses/huggingface-transformers-tutorial/hf-notebooks/.venv-hf-notebooks/lib/python3.9/site-packages (from aiohttp->datasets) (1.7.2)\n",
      "Requirement already satisfied: async-timeout<5.0,>=4.0.0a3 in /Users/achilleas.voutsas/Development/courses/huggingface-transformers-tutorial/hf-notebooks/.venv-hf-notebooks/lib/python3.9/site-packages (from aiohttp->datasets) (4.0.2)\n",
      "Requirement already satisfied: pytz>=2020.1 in /Users/achilleas.voutsas/Development/courses/huggingface-transformers-tutorial/hf-notebooks/.venv-hf-notebooks/lib/python3.9/site-packages (from pandas->datasets) (2022.1)\n",
      "Requirement already satisfied: python-dateutil>=2.8.1 in /Users/achilleas.voutsas/Development/courses/huggingface-transformers-tutorial/hf-notebooks/.venv-hf-notebooks/lib/python3.9/site-packages (from pandas->datasets) (2.8.2)\n",
      "Requirement already satisfied: six>=1.5 in /Users/achilleas.voutsas/Development/courses/huggingface-transformers-tutorial/hf-notebooks/.venv-hf-notebooks/lib/python3.9/site-packages (from python-dateutil>=2.8.1->pandas->datasets) (1.16.0)\n",
      "Installing collected packages: multiprocess, aiosignal, aiohttp, datasets\n",
      "Successfully installed aiohttp-3.8.1 aiosignal-1.2.0 datasets-2.3.2 multiprocess-0.70.13\n"
     ]
    }
   ],
   "source": [
    "!pip install datasets 'transformers[sentencepiece]'"
   ]
  },
  {
   "cell_type": "code",
   "execution_count": null,
   "metadata": {},
   "outputs": [],
   "source": [
    "!pip install torch"
   ]
  },
  {
   "cell_type": "code",
   "execution_count": 1,
   "metadata": {},
   "outputs": [
    {
     "name": "stderr",
     "output_type": "stream",
     "text": [
      "/Users/achilleas.voutsas/Development/courses/huggingface-transformers-tutorial/hf-notebooks/.venv-hf-notebooks/lib/python3.9/site-packages/tqdm/auto.py:22: TqdmWarning: IProgress not found. Please update jupyter and ipywidgets. See https://ipywidgets.readthedocs.io/en/stable/user_install.html\n",
      "  from .autonotebook import tqdm as notebook_tqdm\n",
      "No model was supplied, defaulted to distilbert-base-uncased-finetuned-sst-2-english (https://huggingface.co/distilbert-base-uncased-finetuned-sst-2-english)\n"
     ]
    },
    {
     "data": {
      "text/plain": [
       "[{'label': 'POSITIVE', 'score': 0.9598051905632019}]"
      ]
     },
     "execution_count": 1,
     "metadata": {},
     "output_type": "execute_result"
    }
   ],
   "source": [
    "from transformers import pipeline\n",
    "\n",
    "classifier = pipeline(\"sentiment-analysis\")\n",
    "classifier(\"I've been waiting for a HuggingFace course my whole life.\")"
   ]
  },
  {
   "cell_type": "code",
   "execution_count": 2,
   "metadata": {},
   "outputs": [
    {
     "data": {
      "text/plain": [
       "[{'label': 'POSITIVE', 'score': 0.9598051905632019},\n",
       " {'label': 'NEGATIVE', 'score': 0.9994558691978455}]"
      ]
     },
     "execution_count": 2,
     "metadata": {},
     "output_type": "execute_result"
    }
   ],
   "source": [
    "classifier(\n",
    "    [\"I've been waiting for a HuggingFace course my whole life.\", \"I hate this so much!\"]\n",
    ")"
   ]
  },
  {
   "cell_type": "code",
   "execution_count": 3,
   "metadata": {},
   "outputs": [
    {
     "name": "stderr",
     "output_type": "stream",
     "text": [
      "No model was supplied, defaulted to facebook/bart-large-mnli (https://huggingface.co/facebook/bart-large-mnli)\n",
      "Downloading: 100%|██████████| 1.13k/1.13k [00:00<00:00, 168kB/s]\n",
      "Downloading: 100%|██████████| 1.52G/1.52G [01:25<00:00, 19.0MB/s]\n",
      "Downloading: 100%|██████████| 26.0/26.0 [00:00<00:00, 6.79kB/s]\n",
      "Downloading: 100%|██████████| 878k/878k [00:00<00:00, 2.32MB/s]\n",
      "Downloading: 100%|██████████| 446k/446k [00:00<00:00, 1.20MB/s]\n",
      "Downloading: 100%|██████████| 1.29M/1.29M [00:00<00:00, 2.86MB/s]\n"
     ]
    },
    {
     "data": {
      "text/plain": [
       "{'sequence': 'This is a course about the Transformers library',\n",
       " 'labels': ['education', 'business', 'politics'],\n",
       " 'scores': [0.8445988893508911, 0.11197422444820404, 0.04342687502503395]}"
      ]
     },
     "execution_count": 3,
     "metadata": {},
     "output_type": "execute_result"
    }
   ],
   "source": [
    "from transformers import pipeline\n",
    "\n",
    "classifier = pipeline(\"zero-shot-classification\")\n",
    "classifier(\n",
    "    \"This is a course about the Transformers library\",\n",
    "    candidate_labels=[\"education\", \"politics\", \"business\"],\n",
    ")"
   ]
  },
  {
   "cell_type": "code",
   "execution_count": 4,
   "metadata": {},
   "outputs": [
    {
     "name": "stderr",
     "output_type": "stream",
     "text": [
      "No model was supplied, defaulted to gpt2 (https://huggingface.co/gpt2)\n",
      "Downloading: 100%|██████████| 665/665 [00:00<00:00, 307kB/s]\n",
      "Downloading: 100%|██████████| 523M/523M [00:27<00:00, 20.2MB/s] \n",
      "Downloading: 100%|██████████| 0.99M/0.99M [00:00<00:00, 2.05MB/s]\n",
      "Downloading: 100%|██████████| 446k/446k [00:00<00:00, 1.48MB/s]\n",
      "Downloading: 100%|██████████| 1.29M/1.29M [00:00<00:00, 3.42MB/s]\n",
      "The attention mask and the pad token id were not set. As a consequence, you may observe unexpected behavior. Please pass your input's `attention_mask` to obtain reliable results.\n",
      "Setting `pad_token_id` to `eos_token_id`:50256 for open-end generation.\n"
     ]
    },
    {
     "data": {
      "text/plain": [
       "[{'generated_text': 'In this course, we will teach you how to create a small, flexible, yet persistent API that interacts with your database. In each application, you can create simple, immutable and persistent values.\\n\\n\\nThere is also a tutorial to work from the'}]"
      ]
     },
     "execution_count": 4,
     "metadata": {},
     "output_type": "execute_result"
    }
   ],
   "source": [
    "from transformers import pipeline\n",
    "\n",
    "generator = pipeline(\"text-generation\")\n",
    "generator(\"In this course, we will teach you how to\")"
   ]
  },
  {
   "cell_type": "code",
   "execution_count": 5,
   "metadata": {},
   "outputs": [
    {
     "name": "stderr",
     "output_type": "stream",
     "text": [
      "Downloading: 100%|██████████| 762/762 [00:00<00:00, 306kB/s]\n",
      "Downloading: 100%|██████████| 336M/336M [00:17<00:00, 20.7MB/s] \n",
      "Downloading: 100%|██████████| 0.99M/0.99M [00:00<00:00, 2.69MB/s]\n",
      "Downloading: 100%|██████████| 446k/446k [00:00<00:00, 647kB/s]  \n",
      "Downloading: 100%|██████████| 1.29M/1.29M [00:00<00:00, 3.18MB/s]\n",
      "The attention mask and the pad token id were not set. As a consequence, you may observe unexpected behavior. Please pass your input's `attention_mask` to obtain reliable results.\n",
      "Setting `pad_token_id` to `eos_token_id`:50256 for open-end generation.\n"
     ]
    },
    {
     "data": {
      "text/plain": [
       "[{'generated_text': 'In this course, we will teach you how to control yourself, and how we learn to manage it.”\\n\\nRelated Links'},\n",
       " {'generated_text': 'In this course, we will teach you how to use it in real-time, and if you are a user of the course, please contact us'}]"
      ]
     },
     "execution_count": 5,
     "metadata": {},
     "output_type": "execute_result"
    }
   ],
   "source": [
    "from transformers import pipeline\n",
    "\n",
    "generator = pipeline(\"text-generation\", model=\"distilgpt2\")\n",
    "generator(\n",
    "    \"In this course, we will teach you how to\",\n",
    "    max_length=30,\n",
    "    num_return_sequences=2,\n",
    ")"
   ]
  },
  {
   "cell_type": "code",
   "execution_count": 6,
   "metadata": {},
   "outputs": [
    {
     "name": "stderr",
     "output_type": "stream",
     "text": [
      "No model was supplied, defaulted to distilroberta-base (https://huggingface.co/distilroberta-base)\n",
      "Downloading: 100%|██████████| 480/480 [00:00<00:00, 126kB/s]\n",
      "Downloading: 100%|██████████| 316M/316M [00:18<00:00, 18.1MB/s] \n",
      "Downloading: 100%|██████████| 878k/878k [00:00<00:00, 2.19MB/s]\n",
      "Downloading: 100%|██████████| 446k/446k [00:00<00:00, 1.20MB/s]\n",
      "Downloading: 100%|██████████| 1.29M/1.29M [00:00<00:00, 2.84MB/s]\n"
     ]
    },
    {
     "data": {
      "text/plain": [
       "[{'score': 0.196197971701622,\n",
       "  'token': 30412,\n",
       "  'token_str': ' mathematical',\n",
       "  'sequence': 'This course will teach you all about mathematical models.'},\n",
       " {'score': 0.04052722081542015,\n",
       "  'token': 38163,\n",
       "  'token_str': ' computational',\n",
       "  'sequence': 'This course will teach you all about computational models.'}]"
      ]
     },
     "execution_count": 6,
     "metadata": {},
     "output_type": "execute_result"
    }
   ],
   "source": [
    "from transformers import pipeline\n",
    "\n",
    "unmasker = pipeline(\"fill-mask\")\n",
    "unmasker(\"This course will teach you all about <mask> models.\", top_k=2)"
   ]
  },
  {
   "cell_type": "code",
   "execution_count": 7,
   "metadata": {},
   "outputs": [
    {
     "name": "stderr",
     "output_type": "stream",
     "text": [
      "No model was supplied, defaulted to dbmdz/bert-large-cased-finetuned-conll03-english (https://huggingface.co/dbmdz/bert-large-cased-finetuned-conll03-english)\n",
      "/Users/achilleas.voutsas/Development/courses/huggingface-transformers-tutorial/hf-notebooks/.venv-hf-notebooks/lib/python3.9/site-packages/transformers/pipelines/token_classification.py:135: UserWarning: `grouped_entities` is deprecated and will be removed in version v5.0.0, defaulted to `aggregation_strategy=\"AggregationStrategy.SIMPLE\"` instead.\n",
      "  warnings.warn(\n"
     ]
    },
    {
     "data": {
      "text/plain": [
       "[{'entity_group': 'PER',\n",
       "  'score': 0.9981694,\n",
       "  'word': 'Sylvain',\n",
       "  'start': 11,\n",
       "  'end': 18},\n",
       " {'entity_group': 'ORG',\n",
       "  'score': 0.9796019,\n",
       "  'word': 'Hugging Face',\n",
       "  'start': 33,\n",
       "  'end': 45},\n",
       " {'entity_group': 'LOC',\n",
       "  'score': 0.9932106,\n",
       "  'word': 'Brooklyn',\n",
       "  'start': 49,\n",
       "  'end': 57}]"
      ]
     },
     "execution_count": 7,
     "metadata": {},
     "output_type": "execute_result"
    }
   ],
   "source": [
    "from transformers import pipeline\n",
    "\n",
    "ner = pipeline(\"ner\", grouped_entities=True)\n",
    "ner(\"My name is Sylvain and I work at Hugging Face in Brooklyn.\")"
   ]
  },
  {
   "cell_type": "code",
   "execution_count": 8,
   "metadata": {},
   "outputs": [
    {
     "name": "stderr",
     "output_type": "stream",
     "text": [
      "No model was supplied, defaulted to distilbert-base-cased-distilled-squad (https://huggingface.co/distilbert-base-cased-distilled-squad)\n",
      "Downloading: 100%|██████████| 473/473 [00:00<00:00, 187kB/s]\n",
      "Downloading: 100%|██████████| 249M/249M [00:12<00:00, 21.1MB/s] \n",
      "Downloading: 100%|██████████| 29.0/29.0 [00:00<00:00, 13.6kB/s]\n",
      "Downloading: 100%|██████████| 208k/208k [00:00<00:00, 421kB/s] \n",
      "Downloading: 100%|██████████| 426k/426k [00:00<00:00, 1.13MB/s]\n"
     ]
    },
    {
     "data": {
      "text/plain": [
       "{'score': 0.6949774026870728, 'start': 33, 'end': 45, 'answer': 'Hugging Face'}"
      ]
     },
     "execution_count": 8,
     "metadata": {},
     "output_type": "execute_result"
    }
   ],
   "source": [
    "from transformers import pipeline\n",
    "\n",
    "question_answerer = pipeline(\"question-answering\")\n",
    "question_answerer(\n",
    "    question=\"Where do I work?\",\n",
    "    context=\"My name is Sylvain and I work at Hugging Face in Brooklyn\",\n",
    ")"
   ]
  },
  {
   "cell_type": "code",
   "execution_count": null,
   "metadata": {},
   "outputs": [
    {
     "data": {
      "text/plain": [
       "[{'summary_text': ' America has changed dramatically during recent years . The '\n",
       "                  'number of engineering graduates in the U.S. has declined in '\n",
       "                  'traditional engineering disciplines such as mechanical, civil '\n",
       "                  ', electrical, chemical, and aeronautical engineering . Rapidly '\n",
       "                  'developing economies such as China and India, as well as other '\n",
       "                  'industrial countries in Europe and Asia, continue to encourage '\n",
       "                  'and advance engineering .'}]"
      ]
     },
     "execution_count": null,
     "metadata": {},
     "output_type": "execute_result"
    }
   ],
   "source": [
    "from transformers import pipeline\n",
    "\n",
    "summarizer = pipeline(\"summarization\")\n",
    "summarizer(\n",
    "    \"\"\"\n",
    "    America has changed dramatically during recent years. Not only has the number of \n",
    "    graduates in traditional engineering disciplines such as mechanical, civil, \n",
    "    electrical, chemical, and aeronautical engineering declined, but in most of \n",
    "    the premier American universities engineering curricula now concentrate on \n",
    "    and encourage largely the study of engineering science. As a result, there \n",
    "    are declining offerings in engineering subjects dealing with infrastructure, \n",
    "    the environment, and related issues, and greater concentration on high \n",
    "    technology subjects, largely supporting increasingly complex scientific \n",
    "    developments. While the latter is important, it should not be at the expense \n",
    "    of more traditional engineering.\n",
    "\n",
    "    Rapidly developing economies such as China and India, as well as other \n",
    "    industrial countries in Europe and Asia, continue to encourage and advance \n",
    "    the teaching of engineering. Both China and India, respectively, graduate \n",
    "    six and eight times as many traditional engineers as does the United States. \n",
    "    Other industrial countries at minimum maintain their output, while America \n",
    "    suffers an increasingly serious decline in the number of engineering graduates \n",
    "    and a lack of well-educated engineers.\n",
    "\"\"\"\n",
    ")"
   ]
  },
  {
   "cell_type": "code",
   "execution_count": 9,
   "metadata": {},
   "outputs": [
    {
     "name": "stderr",
     "output_type": "stream",
     "text": [
      "Downloading: 100%|██████████| 1.26k/1.26k [00:00<00:00, 523kB/s]\n",
      "Downloading: 100%|██████████| 287M/287M [00:19<00:00, 15.3MB/s] \n",
      "Downloading: 100%|██████████| 42.0/42.0 [00:00<00:00, 12.3kB/s]\n",
      "Downloading: 100%|██████████| 784k/784k [00:00<00:00, 2.48MB/s]\n",
      "Downloading: 100%|██████████| 760k/760k [00:00<00:00, 2.40MB/s]\n",
      "Downloading: 100%|██████████| 1.28M/1.28M [00:00<00:00, 2.86MB/s]\n",
      "/Users/achilleas.voutsas/Development/courses/huggingface-transformers-tutorial/hf-notebooks/.venv-hf-notebooks/lib/python3.9/site-packages/transformers/models/marian/tokenization_marian.py:198: UserWarning: Recommended: pip install sacremoses.\n",
      "  warnings.warn(\"Recommended: pip install sacremoses.\")\n"
     ]
    },
    {
     "data": {
      "text/plain": [
       "[{'translation_text': 'This course is produced by Hugging Face.'}]"
      ]
     },
     "execution_count": 9,
     "metadata": {},
     "output_type": "execute_result"
    }
   ],
   "source": [
    "from transformers import pipeline\n",
    "\n",
    "translator = pipeline(\"translation\", model=\"Helsinki-NLP/opus-mt-fr-en\")\n",
    "translator(\"Ce cours est produit par Hugging Face.\")"
   ]
  }
 ],
 "metadata": {
  "colab": {
   "name": "Transformers, what can they do?",
   "provenance": []
  },
  "kernelspec": {
   "display_name": "Python 3.9.13 ('.venv-hf-notebooks': venv)",
   "language": "python",
   "name": "python3"
  },
  "language_info": {
   "codemirror_mode": {
    "name": "ipython",
    "version": 3
   },
   "file_extension": ".py",
   "mimetype": "text/x-python",
   "name": "python",
   "nbconvert_exporter": "python",
   "pygments_lexer": "ipython3",
   "version": "3.9.13"
  },
  "vscode": {
   "interpreter": {
    "hash": "4002c6016b51045baa9e8326ca8bccd2da7d7310af864371a45a6505f277f475"
   }
  }
 },
 "nbformat": 4,
 "nbformat_minor": 4
}
